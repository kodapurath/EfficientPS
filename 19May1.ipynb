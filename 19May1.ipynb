{
  "nbformat": 4,
  "nbformat_minor": 0,
  "metadata": {
    "colab": {
      "name": "19May1.ipynb",
      "provenance": [],
      "collapsed_sections": [],
      "authorship_tag": "ABX9TyMtqeoNNETXoGKbJcXINBDl",
      "include_colab_link": true
    },
    "kernelspec": {
      "name": "python3",
      "display_name": "Python 3"
    },
    "language_info": {
      "name": "python"
    },
    "accelerator": "GPU"
  },
  "cells": [
    {
      "cell_type": "markdown",
      "metadata": {
        "id": "view-in-github",
        "colab_type": "text"
      },
      "source": [
        "<a href=\"https://colab.research.google.com/github/kodapurath/EfficientPS/blob/master/19May1.ipynb\" target=\"_parent\"><img src=\"https://colab.research.google.com/assets/colab-badge.svg\" alt=\"Open In Colab\"/></a>"
      ]
    },
    {
      "cell_type": "markdown",
      "metadata": {
        "id": "uLD8WvT4ihpv"
      },
      "source": [
        "Switch on gpu and open terminal"
      ]
    },
    {
      "cell_type": "code",
      "metadata": {
        "id": "8czKmj18GZ1w"
      },
      "source": [
        "#cd ~\n",
        "#wget https://repo.anaconda.com/archive/Anaconda3-2021.05-Linux-x86_64.sh\n",
        "# bash Anaconda3-2021.05-Linux-x86_64.sh\n",
        "\n",
        "after pressing necessary keys\n",
        "\n",
        "# exit\n",
        "# cd ---> contents\n",
        "# git clone \"https://github.com/DeepSceneSeg/EfficientPS\"\n",
        "# cd EfficientPS\n",
        "# conda env create -n efficientPS_env --file=environment.yml\n",
        "# conda activate efficientPS_env\n",
        "# pip install -r requirements.txt\n",
        "# pip uninstall numpy\n",
        "# pip install numpy\n",
        "# cd efficientNet\n",
        "# python setup.py develop\n",
        "# cd ..\n",
        "# python setup.py develop\n",
        "\n",
        "extras\n",
        "# export PATH=$PATH:/root/anaconda2/condabin\n",
        "# export PATH=$PATH:/root/anaconda3/condabin\n",
        "#conda create env -n efficientPS_env --file=environment.yml"
      ],
      "execution_count": null,
      "outputs": []
    },
    {
      "cell_type": "code",
      "metadata": {
        "id": "nVkKesRVptfo"
      },
      "source": [
        "!wget --keep-session-cookies --save-cookies=cookies.txt --post-data 'username=abhay.k-oric@ottonomy.io&password=asjaanya&submit=Login' https://www.cityscapes-dataset.com/login/\n",
        "!wget --load-cookies cookies.txt --content-disposition https://www.cityscapes-dataset.com/file-handling/?packageID=3\n",
        "!wget --load-cookies cookies.txt --content-disposition https://www.cityscapes-dataset.com/file-handling/?packageID=1\n",
        "!unzip gtFine_trainvaltest.zip -d data\n",
        "!unzip leftImg8bit_trainvaltest.zip -d data\n",
        "#put gtfine and leftimg in EfficientPS>data>cityscapes then run the pycococretortool script"
      ],
      "execution_count": null,
      "outputs": []
    },
    {
      "cell_type": "code",
      "metadata": {
        "id": "EzLDvGpbwpBu"
      },
      "source": [
        "!pip install git+git://github.com/waspinator/pycococreator.git@0.2.0"
      ],
      "execution_count": null,
      "outputs": []
    },
    {
      "cell_type": "code",
      "metadata": {
        "id": "lFNPMJs2usGT"
      },
      "source": [
        "!python -m pip install cityscapesscripts"
      ],
      "execution_count": null,
      "outputs": []
    },
    {
      "cell_type": "code",
      "metadata": {
        "id": "KvYP-Yy2tvTb"
      },
      "source": [
        "!python tools/convert_cityscapes.py ./data/cityscapes/ ./data/cityscapes/"
      ],
      "execution_count": null,
      "outputs": []
    },
    {
      "cell_type": "code",
      "metadata": {
        "id": "GwxpJM7V7Vpu"
      },
      "source": [
        "!git clone https://github.com/mcordts/cityscapesScripts.git"
      ],
      "execution_count": null,
      "outputs": []
    },
    {
      "cell_type": "code",
      "metadata": {
        "colab": {
          "base_uri": "https://localhost:8080/"
        },
        "id": "ndPd-u4sIVi0",
        "outputId": "b9f84cd9-3a3a-49e5-b524-e87af66890c1"
      },
      "source": [
        "!pwd"
      ],
      "execution_count": 86,
      "outputs": [
        {
          "output_type": "stream",
          "text": [
            "/content/EfficientPS/cityscapesScripts\n"
          ],
          "name": "stdout"
        }
      ]
    },
    {
      "cell_type": "code",
      "metadata": {
        "id": "8S-lNAlJ76Tn"
      },
      "source": [
        "# %cd cityscapesScripts/cityscapesscripts/preparation\n",
        "!python createPanopticImgs.py --dataset-folder ../../../data/cityscapes/gtFine --output-folder ../../../data/cityscapes/panoptic/gtFine --set-names val"
      ],
      "execution_count": null,
      "outputs": []
    },
    {
      "cell_type": "markdown",
      "metadata": {
        "id": "5ck6DaBoQgb4"
      },
      "source": [
        "Training"
      ]
    },
    {
      "cell_type": "code",
      "metadata": {
        "colab": {
          "base_uri": "https://localhost:8080/"
        },
        "id": "YXgy59GJQgKR",
        "outputId": "ee7212e3-dffb-4e68-8a3c-97eab167bdb2"
      },
      "source": [
        "# %cd ../../../\n",
        "!python train.py configs/efficientPS_singlegpu_sample.py --work_dir work_dirs/checkpoints --validate "
      ],
      "execution_count": 131,
      "outputs": [
        {
          "output_type": "stream",
          "text": [
            "Traceback (most recent call last):\n",
            "  File \"train.py\", line 17, in <module>\n",
            "    from mmdet.apis import set_random_seed, train_detector\n",
            "  File \"/content/EfficientPS/mmdet/apis/__init__.py\", line 1, in <module>\n",
            "    from .inference import (async_inference_detector, inference_detector,\n",
            "  File \"/content/EfficientPS/mmdet/apis/inference.py\", line 11, in <module>\n",
            "    from mmdet.core import get_classes\n",
            "  File \"/content/EfficientPS/mmdet/core/__init__.py\", line 7, in <module>\n",
            "    from .post_processing import *  # noqa: F401, F403\n",
            "  File \"/content/EfficientPS/mmdet/core/post_processing/__init__.py\", line 1, in <module>\n",
            "    from .bbox_nms import multiclass_nms\n",
            "  File \"/content/EfficientPS/mmdet/core/post_processing/bbox_nms.py\", line 3, in <module>\n",
            "    from mmdet.ops.nms import nms_wrapper\n",
            "  File \"/content/EfficientPS/mmdet/ops/__init__.py\", line 2, in <module>\n",
            "    from .conv import build_conv_layer\n",
            "  File \"/content/EfficientPS/mmdet/ops/conv.py\", line 4, in <module>\n",
            "    from .dcn import DeformConvPack, ModulatedDeformConvPack\n",
            "  File \"/content/EfficientPS/mmdet/ops/dcn/__init__.py\", line 1, in <module>\n",
            "    from .deform_conv import (DeformConv, DeformConvPack, ModulatedDeformConv,\n",
            "  File \"/content/EfficientPS/mmdet/ops/dcn/deform_conv.py\", line 11, in <module>\n",
            "    from . import deform_conv_cuda\n",
            "ImportError: /content/EfficientPS/mmdet/ops/dcn/deform_conv_cuda.cpython-37m-x86_64-linux-gnu.so: undefined symbol: _ZN6caffe28TypeMeta21_typeMetaDataInstanceIdEEPKNS_6detail12TypeMetaDataEv\n"
          ],
          "name": "stdout"
        }
      ]
    },
    {
      "cell_type": "code",
      "metadata": {
        "id": "2mQq8foQre9S"
      },
      "source": [
        "!pwd\n",
        "!cp tools/train.py . "
      ],
      "execution_count": null,
      "outputs": []
    },
    {
      "cell_type": "code",
      "metadata": {
        "id": "W6uVX4lkRChA"
      },
      "source": [
        "!pip uninstall mmcv\n",
        "!pip install mmcv-full"
      ],
      "execution_count": null,
      "outputs": []
    },
    {
      "cell_type": "code",
      "metadata": {
        "id": "k70bkJqkRfEB"
      },
      "source": [
        "pip install mmdet"
      ],
      "execution_count": null,
      "outputs": []
    },
    {
      "cell_type": "code",
      "metadata": {
        "colab": {
          "base_uri": "https://localhost:8080/",
          "height": 472
        },
        "id": "vc22kwuwRtnA",
        "outputId": "ff3dbd21-c4e9-4e66-f089-252a7abd628e"
      },
      "source": [
        "!pip uninstall numpy\n",
        "!pip install numpy"
      ],
      "execution_count": 132,
      "outputs": [
        {
          "output_type": "stream",
          "text": [
            "Uninstalling numpy-1.20.3:\n",
            "  Would remove:\n",
            "    /usr/local/bin/f2py\n",
            "    /usr/local/bin/f2py3\n",
            "    /usr/local/bin/f2py3.7\n",
            "    /usr/local/lib/python3.7/dist-packages/numpy-1.20.3.dist-info/*\n",
            "    /usr/local/lib/python3.7/dist-packages/numpy.libs/libgfortran-2e0d59d6.so.5.0.0\n",
            "    /usr/local/lib/python3.7/dist-packages/numpy.libs/libopenblasp-r0-5bebc122.3.13.dev.so\n",
            "    /usr/local/lib/python3.7/dist-packages/numpy.libs/libquadmath-2d0c479f.so.0.0.0\n",
            "    /usr/local/lib/python3.7/dist-packages/numpy.libs/libz-eb09ad1d.so.1.2.3\n",
            "    /usr/local/lib/python3.7/dist-packages/numpy/*\n",
            "Proceed (y/n)? y\n",
            "  Successfully uninstalled numpy-1.20.3\n",
            "Collecting numpy\n",
            "  Using cached https://files.pythonhosted.org/packages/a5/42/560d269f604d3e186a57c21a363e77e199358d054884e61b73e405dd217c/numpy-1.20.3-cp37-cp37m-manylinux_2_12_x86_64.manylinux2010_x86_64.whl\n",
            "\u001b[31mERROR: tensorflow 2.4.1 has requirement numpy~=1.19.2, but you'll have numpy 1.20.3 which is incompatible.\u001b[0m\n",
            "\u001b[31mERROR: datascience 0.10.6 has requirement folium==0.2.1, but you'll have folium 0.8.3 which is incompatible.\u001b[0m\n",
            "\u001b[31mERROR: albumentations 0.1.12 has requirement imgaug<0.2.7,>=0.2.5, but you'll have imgaug 0.2.9 which is incompatible.\u001b[0m\n",
            "Installing collected packages: numpy\n",
            "Successfully installed numpy-1.20.3\n"
          ],
          "name": "stdout"
        },
        {
          "output_type": "display_data",
          "data": {
            "application/vnd.colab-display-data+json": {
              "pip_warning": {
                "packages": [
                  "numpy"
                ]
              }
            }
          },
          "metadata": {
            "tags": []
          }
        }
      ]
    },
    {
      "cell_type": "code",
      "metadata": {
        "id": "FmlxIBRZrsIZ"
      },
      "source": [
        "!ls"
      ],
      "execution_count": null,
      "outputs": []
    },
    {
      "cell_type": "code",
      "metadata": {
        "id": "rznTD0ZXr3Qa"
      },
      "source": [
        "!cp mmdet/__init__.py ."
      ],
      "execution_count": 128,
      "outputs": []
    }
  ]
}